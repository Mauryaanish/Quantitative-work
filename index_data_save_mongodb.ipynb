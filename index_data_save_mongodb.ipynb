{
 "cells": [
  {
   "cell_type": "code",
   "execution_count": null,
   "id": "499cbc5a-526e-45a8-a672-b24d16435881",
   "metadata": {},
   "outputs": [],
   "source": [
    "import pandas as pd\n",
    "import numpy as np\n",
    "from glob import glob\n",
    "from datetime import datetime,timedelta\n",
    "import pymongo\n",
    "import os\n",
    "import time"
   ]
  },
  {
   "cell_type": "code",
   "execution_count": null,
   "id": "99a95bab-89a6-46a5-9bc5-da021fe7ffe8",
   "metadata": {},
   "outputs": [],
   "source": [
    "def mongodb_index_data_save():\n",
    "    try:\n",
    "        today_date_str = datetime.today().strftime(\"%d%m%Y\")\n",
    "        input_file = f'Y:\\\\{today_date_str}\\\\index_data.txt'\n",
    "        \n",
    "        # Read and preprocess the data\n",
    "        data = pd.read_csv(input_file, header=None, usecols=[0, 2, 3])\n",
    "        data.rename(columns={0: 'index_name', 2: 'time_entry', 3: 'ltp'}, inplace=True)\n",
    "        data['index_name'] = data['index_name'].str[23:-1]\n",
    "        data['time_entry'] = data['time_entry'].str[16:-1]\n",
    "        data['ltp'] = data['ltp'].str[8:-2]\n",
    "        \n",
    "        # Create MongoDB client and database\n",
    "        database_name = f'index_data_{today_date_str}'\n",
    "        client = pymongo.MongoClient(\"mongodb://localhost:27017/\")\n",
    "        db = client[database_name]\n",
    "        \n",
    "        # Group data by index_name and prepare for bulk insertion\n",
    "        grouped_data = data.groupby('index_name')\n",
    "        for index_name, group in grouped_data:\n",
    "            group = group[['time_entry', 'ltp']]\n",
    "            records = group.to_dict(orient='records')\n",
    "            collection = db[index_name]\n",
    "            collection.insert_many(records)\n",
    "    except Exception as e:\n",
    "        print(f'Error: {e}')\n",
    "\n",
    "start_time = time.time()\n",
    "if __name__ == '__main__':\n",
    "    mongodb_index_data_save()\n",
    "end_time = time.time()\n",
    "elapsed_time = end_time - start_time\n",
    "print(f\"Elapsed time: {elapsed_time:.2f} seconds\")"
   ]
  },
  {
   "cell_type": "code",
   "execution_count": null,
   "id": "9af31e1f-87ff-4a35-b9cb-15a47f52ce15",
   "metadata": {},
   "outputs": [],
   "source": []
  },
  {
   "cell_type": "code",
   "execution_count": null,
   "id": "a44d676f-2ba5-4008-b2be-1f0605137fc0",
   "metadata": {},
   "outputs": [],
   "source": []
  },
  {
   "cell_type": "code",
   "execution_count": null,
   "id": "7cc07b6f-dc75-41e5-a7a7-43a1e8233fb4",
   "metadata": {},
   "outputs": [],
   "source": []
  },
  {
   "cell_type": "code",
   "execution_count": null,
   "id": "3e4b2944-3d62-40c7-a7fd-ecfeb106e346",
   "metadata": {},
   "outputs": [],
   "source": []
  },
  {
   "cell_type": "code",
   "execution_count": null,
   "id": "fdba722f-879f-4929-aa8f-95ca60ff5764",
   "metadata": {},
   "outputs": [],
   "source": []
  },
  {
   "cell_type": "code",
   "execution_count": null,
   "id": "e33966f1-5ab6-4c83-bb70-f2b5cd9e69db",
   "metadata": {},
   "outputs": [],
   "source": []
  },
  {
   "cell_type": "code",
   "execution_count": null,
   "id": "cde4bb15-1aae-4629-aeba-4989b8bcf553",
   "metadata": {},
   "outputs": [],
   "source": []
  },
  {
   "cell_type": "code",
   "execution_count": null,
   "id": "d49384c1-4289-477b-98da-d646af500df0",
   "metadata": {},
   "outputs": [],
   "source": []
  }
 ],
 "metadata": {
  "kernelspec": {
   "display_name": "Python 3 (ipykernel)",
   "language": "python",
   "name": "python3"
  },
  "language_info": {
   "codemirror_mode": {
    "name": "ipython",
    "version": 3
   },
   "file_extension": ".py",
   "mimetype": "text/x-python",
   "name": "python",
   "nbconvert_exporter": "python",
   "pygments_lexer": "ipython3",
   "version": "3.11.7"
  }
 },
 "nbformat": 4,
 "nbformat_minor": 5
}
